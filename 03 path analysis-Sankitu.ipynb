{
 "cells": [
  {
   "cell_type": "code",
   "execution_count": 1,
   "metadata": {},
   "outputs": [],
   "source": [
    "import pandas as pd\n",
    "from pyecharts import options as opts\n",
    "from pyecharts.charts import Sankey"
   ]
  },
  {
   "cell_type": "markdown",
   "metadata": {},
   "source": [
    "### 1、整理数据结构：父类->子类->值"
   ]
  },
  {
   "cell_type": "code",
   "execution_count": 58,
   "metadata": {},
   "outputs": [],
   "source": [
    "data_page = pd.read_csv('./ads_traffic_page_view_path.csv')\n",
    "data_behavior = pd.read_csv('./ads_traffic_behavior_path.csv')"
   ]
  },
  {
   "cell_type": "code",
   "execution_count": 59,
   "metadata": {},
   "outputs": [
    {
     "data": {
      "text/html": [
       "<div>\n",
       "<style scoped>\n",
       "    .dataframe tbody tr th:only-of-type {\n",
       "        vertical-align: middle;\n",
       "    }\n",
       "\n",
       "    .dataframe tbody tr th {\n",
       "        vertical-align: top;\n",
       "    }\n",
       "\n",
       "    .dataframe thead th {\n",
       "        text-align: right;\n",
       "    }\n",
       "</style>\n",
       "<table border=\"1\" class=\"dataframe\">\n",
       "  <thead>\n",
       "    <tr style=\"text-align: right;\">\n",
       "      <th></th>\n",
       "      <th>page_1</th>\n",
       "      <th>page_2</th>\n",
       "      <th>traffic</th>\n",
       "    </tr>\n",
       "  </thead>\n",
       "  <tbody>\n",
       "    <tr>\n",
       "      <th>0</th>\n",
       "      <td>首页</td>\n",
       "      <td>购物页</td>\n",
       "      <td>294706</td>\n",
       "    </tr>\n",
       "    <tr>\n",
       "      <th>1</th>\n",
       "      <td>首页</td>\n",
       "      <td>列表页</td>\n",
       "      <td>584823</td>\n",
       "    </tr>\n",
       "    <tr>\n",
       "      <th>2</th>\n",
       "      <td>首页</td>\n",
       "      <td>退出</td>\n",
       "      <td>291918</td>\n",
       "    </tr>\n",
       "    <tr>\n",
       "      <th>3</th>\n",
       "      <td>首页</td>\n",
       "      <td>收藏页</td>\n",
       "      <td>291733</td>\n",
       "    </tr>\n",
       "    <tr>\n",
       "      <th>4</th>\n",
       "      <td>购物页</td>\n",
       "      <td>退出</td>\n",
       "      <td>291665</td>\n",
       "    </tr>\n",
       "    <tr>\n",
       "      <th>5</th>\n",
       "      <td>列表页</td>\n",
       "      <td>详情页</td>\n",
       "      <td>293818</td>\n",
       "    </tr>\n",
       "    <tr>\n",
       "      <th>6</th>\n",
       "      <td>收藏页</td>\n",
       "      <td>退出</td>\n",
       "      <td>290455</td>\n",
       "    </tr>\n",
       "    <tr>\n",
       "      <th>7</th>\n",
       "      <td>列表页</td>\n",
       "      <td>退出</td>\n",
       "      <td>291005</td>\n",
       "    </tr>\n",
       "    <tr>\n",
       "      <th>8</th>\n",
       "      <td>购物页</td>\n",
       "      <td>支付页</td>\n",
       "      <td>4319</td>\n",
       "    </tr>\n",
       "    <tr>\n",
       "      <th>9</th>\n",
       "      <td>收藏页</td>\n",
       "      <td>购物页</td>\n",
       "      <td>1278</td>\n",
       "    </tr>\n",
       "    <tr>\n",
       "      <th>10</th>\n",
       "      <td>详情页</td>\n",
       "      <td>退出</td>\n",
       "      <td>291096</td>\n",
       "    </tr>\n",
       "    <tr>\n",
       "      <th>11</th>\n",
       "      <td>支付页</td>\n",
       "      <td>退出</td>\n",
       "      <td>3041</td>\n",
       "    </tr>\n",
       "    <tr>\n",
       "      <th>12</th>\n",
       "      <td>详情页</td>\n",
       "      <td>支付页</td>\n",
       "      <td>2722</td>\n",
       "    </tr>\n",
       "  </tbody>\n",
       "</table>\n",
       "</div>"
      ],
      "text/plain": [
       "   page_1 page_2  traffic\n",
       "0      首页    购物页   294706\n",
       "1      首页    列表页   584823\n",
       "2      首页     退出   291918\n",
       "3      首页    收藏页   291733\n",
       "4     购物页     退出   291665\n",
       "5     列表页    详情页   293818\n",
       "6     收藏页     退出   290455\n",
       "7     列表页     退出   291005\n",
       "8     购物页    支付页     4319\n",
       "9     收藏页    购物页     1278\n",
       "10    详情页     退出   291096\n",
       "11    支付页     退出     3041\n",
       "12    详情页    支付页     2722"
      ]
     },
     "execution_count": 59,
     "metadata": {},
     "output_type": "execute_result"
    }
   ],
   "source": [
    "data_page"
   ]
  },
  {
   "cell_type": "markdown",
   "metadata": {},
   "source": [
    "### 2、生成节点数据"
   ]
  },
  {
   "cell_type": "code",
   "execution_count": 60,
   "metadata": {},
   "outputs": [
    {
     "data": {
      "text/html": [
       "<div>\n",
       "<style scoped>\n",
       "    .dataframe tbody tr th:only-of-type {\n",
       "        vertical-align: middle;\n",
       "    }\n",
       "\n",
       "    .dataframe tbody tr th {\n",
       "        vertical-align: top;\n",
       "    }\n",
       "\n",
       "    .dataframe thead th {\n",
       "        text-align: right;\n",
       "    }\n",
       "</style>\n",
       "<table border=\"1\" class=\"dataframe\">\n",
       "  <thead>\n",
       "    <tr style=\"text-align: right;\">\n",
       "      <th></th>\n",
       "      <th>behavior_1</th>\n",
       "      <th>behavior_2</th>\n",
       "      <th>traffic</th>\n",
       "    </tr>\n",
       "  </thead>\n",
       "  <tbody>\n",
       "    <tr>\n",
       "      <th>0</th>\n",
       "      <td>浏览</td>\n",
       "      <td>退出</td>\n",
       "      <td>1223576</td>\n",
       "    </tr>\n",
       "    <tr>\n",
       "      <th>1</th>\n",
       "      <td>浏览</td>\n",
       "      <td>收藏</td>\n",
       "      <td>58045</td>\n",
       "    </tr>\n",
       "    <tr>\n",
       "      <th>2</th>\n",
       "      <td>浏览</td>\n",
       "      <td>加购</td>\n",
       "      <td>175796</td>\n",
       "    </tr>\n",
       "    <tr>\n",
       "      <th>3</th>\n",
       "      <td>浏览</td>\n",
       "      <td>提交订单</td>\n",
       "      <td>5763</td>\n",
       "    </tr>\n",
       "    <tr>\n",
       "      <th>4</th>\n",
       "      <td>收藏</td>\n",
       "      <td>退出</td>\n",
       "      <td>58045</td>\n",
       "    </tr>\n",
       "    <tr>\n",
       "      <th>5</th>\n",
       "      <td>加购</td>\n",
       "      <td>退出</td>\n",
       "      <td>174518</td>\n",
       "    </tr>\n",
       "    <tr>\n",
       "      <th>6</th>\n",
       "      <td>提交订单</td>\n",
       "      <td>支付</td>\n",
       "      <td>7041</td>\n",
       "    </tr>\n",
       "    <tr>\n",
       "      <th>7</th>\n",
       "      <td>加购</td>\n",
       "      <td>提交订单</td>\n",
       "      <td>1278</td>\n",
       "    </tr>\n",
       "    <tr>\n",
       "      <th>8</th>\n",
       "      <td>支付</td>\n",
       "      <td>退出</td>\n",
       "      <td>5763</td>\n",
       "    </tr>\n",
       "  </tbody>\n",
       "</table>\n",
       "</div>"
      ],
      "text/plain": [
       "  behavior_1 behavior_2  traffic\n",
       "0         浏览         退出  1223576\n",
       "1         浏览         收藏    58045\n",
       "2         浏览         加购   175796\n",
       "3         浏览       提交订单     5763\n",
       "4         收藏         退出    58045\n",
       "5         加购         退出   174518\n",
       "6       提交订单         支付     7041\n",
       "7         加购       提交订单     1278\n",
       "8         支付         退出     5763"
      ]
     },
     "execution_count": 60,
     "metadata": {},
     "output_type": "execute_result"
    }
   ],
   "source": [
    "data_behavior"
   ]
  },
  {
   "cell_type": "code",
   "execution_count": 61,
   "metadata": {},
   "outputs": [
    {
     "data": {
      "text/plain": [
       "[{'name': '首页'},\n",
       " {'name': '购物页'},\n",
       " {'name': '列表页'},\n",
       " {'name': '退出'},\n",
       " {'name': '收藏页'},\n",
       " {'name': '详情页'},\n",
       " {'name': '支付页'}]"
      ]
     },
     "execution_count": 61,
     "metadata": {},
     "output_type": "execute_result"
    }
   ],
   "source": [
    "nodes1 = []\n",
    "# 添加父节点\n",
    "nodes1.append({'name':'首页'})\n",
    "# 添加其他节点\n",
    "for i in data_page['page_2'].unique():\n",
    "    dic={}\n",
    "    dic['name']=i\n",
    "    nodes1.append(dic)\n",
    "nodes1"
   ]
  },
  {
   "cell_type": "code",
   "execution_count": 62,
   "metadata": {},
   "outputs": [
    {
     "data": {
      "text/plain": [
       "[{'name': '浏览'},\n",
       " {'name': '退出'},\n",
       " {'name': '收藏'},\n",
       " {'name': '加购'},\n",
       " {'name': '提交订单'},\n",
       " {'name': '支付'}]"
      ]
     },
     "execution_count": 62,
     "metadata": {},
     "output_type": "execute_result"
    }
   ],
   "source": [
    "nodes2 = []\n",
    "# 添加父节点\n",
    "nodes2.append({'name':'浏览'})\n",
    "# 添加其他节点\n",
    "for i in data_behavior['behavior_2'].unique():\n",
    "    dic={}\n",
    "    dic['name']=i\n",
    "    nodes2.append(dic)\n",
    "nodes2"
   ]
  },
  {
   "cell_type": "markdown",
   "metadata": {},
   "source": [
    "### 3、组织数据：定义节点和流量"
   ]
  },
  {
   "cell_type": "code",
   "execution_count": 63,
   "metadata": {},
   "outputs": [
    {
     "data": {
      "text/plain": [
       "[{'source': '首页', 'target': '购物页', 'value': 294706},\n",
       " {'source': '首页', 'target': '列表页', 'value': 584823},\n",
       " {'source': '首页', 'target': '退出', 'value': 291918},\n",
       " {'source': '首页', 'target': '收藏页', 'value': 291733},\n",
       " {'source': '购物页', 'target': '退出', 'value': 291665},\n",
       " {'source': '列表页', 'target': '详情页', 'value': 293818},\n",
       " {'source': '收藏页', 'target': '退出', 'value': 290455},\n",
       " {'source': '列表页', 'target': '退出', 'value': 291005},\n",
       " {'source': '购物页', 'target': '支付页', 'value': 4319},\n",
       " {'source': '收藏页', 'target': '购物页', 'value': 1278},\n",
       " {'source': '详情页', 'target': '退出', 'value': 291096},\n",
       " {'source': '支付页', 'target': '退出', 'value': 3041},\n",
       " {'source': '详情页', 'target': '支付页', 'value': 2722}]"
      ]
     },
     "execution_count": 63,
     "metadata": {},
     "output_type": "execute_result"
    }
   ],
   "source": [
    "links1 = []\n",
    "for i in data_page.values:\n",
    "    dic={}\n",
    "    dic['source']=i[0]\n",
    "    dic['target']=i[1]\n",
    "    dic['value']=i[2]\n",
    "    links1.append(dic)\n",
    "links1"
   ]
  },
  {
   "cell_type": "code",
   "execution_count": 64,
   "metadata": {},
   "outputs": [
    {
     "data": {
      "text/plain": [
       "[{'source': '浏览', 'target': '退出', 'value': 1223576},\n",
       " {'source': '浏览', 'target': '收藏', 'value': 58045},\n",
       " {'source': '浏览', 'target': '加购', 'value': 175796},\n",
       " {'source': '浏览', 'target': '提交订单', 'value': 5763},\n",
       " {'source': '收藏', 'target': '退出', 'value': 58045},\n",
       " {'source': '加购', 'target': '退出', 'value': 174518},\n",
       " {'source': '提交订单', 'target': '支付', 'value': 7041},\n",
       " {'source': '加购', 'target': '提交订单', 'value': 1278},\n",
       " {'source': '支付', 'target': '退出', 'value': 5763}]"
      ]
     },
     "execution_count": 64,
     "metadata": {},
     "output_type": "execute_result"
    }
   ],
   "source": [
    "links2 = []\n",
    "for i in data_behavior.values:\n",
    "    dic={}\n",
    "    dic['source']=i[0]\n",
    "    dic['target']=i[1]\n",
    "    dic['value']=i[2]\n",
    "    links2.append(dic)\n",
    "links2"
   ]
  },
  {
   "cell_type": "markdown",
   "metadata": {},
   "source": [
    "### 4、数据可视化"
   ]
  },
  {
   "cell_type": "code",
   "execution_count": 67,
   "metadata": {},
   "outputs": [],
   "source": [
    "c = (\n",
    "    Sankey(init_opts=opts.InitOpts(width='1200px',height='1000px',theme='westeros'))\n",
    "    .add(\n",
    "        \"\",\n",
    "        nodes=nodes1,\n",
    "        links=links1,\n",
    "        linestyle_opt=opts.LineStyleOpts(opacity=0.2,curve=0.5,color='source'),\n",
    "        label_opts=opts.LabelOpts(position='right'),\n",
    "    )\n",
    "    .set_global_opts(title_opts=opts.TitleOpts(title='桑基图'))\n",
    "    .render('./page_path.html'))"
   ]
  },
  {
   "cell_type": "code",
   "execution_count": 68,
   "metadata": {},
   "outputs": [],
   "source": [
    "c = (\n",
    "    Sankey(init_opts=opts.InitOpts(width='1200px',height='1000px',theme='westeros'))\n",
    "    .add(\n",
    "        \"\",\n",
    "        nodes=nodes2,\n",
    "        links=links2,\n",
    "        linestyle_opt=opts.LineStyleOpts(opacity=0.2,curve=0.5,color='source'),\n",
    "        label_opts=opts.LabelOpts(position='right'),\n",
    "    )\n",
    "    .set_global_opts(title_opts=opts.TitleOpts(title='桑基图'))\n",
    "    .render('./behavior_path.html'))"
   ]
  },
  {
   "cell_type": "code",
   "execution_count": null,
   "metadata": {},
   "outputs": [],
   "source": []
  }
 ],
 "metadata": {
  "kernelspec": {
   "display_name": "Python 3",
   "language": "python",
   "name": "python3"
  },
  "language_info": {
   "codemirror_mode": {
    "name": "ipython",
    "version": 3
   },
   "file_extension": ".py",
   "mimetype": "text/x-python",
   "name": "python",
   "nbconvert_exporter": "python",
   "pygments_lexer": "ipython3",
   "version": "3.7.6"
  }
 },
 "nbformat": 4,
 "nbformat_minor": 4
}
