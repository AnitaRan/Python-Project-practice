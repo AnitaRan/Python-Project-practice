{
 "cells": [
  {
   "cell_type": "markdown",
   "metadata": {},
   "source": [
    "# Linux 常用命令"
   ]
  },
  {
   "cell_type": "code",
   "execution_count": null,
   "metadata": {},
   "outputs": [],
   "source": []
  },
  {
   "cell_type": "markdown",
   "metadata": {},
   "source": [
    "# 系统自动发送邮件"
   ]
  },
  {
   "cell_type": "code",
   "execution_count": null,
   "metadata": {},
   "outputs": [],
   "source": [
    "import pandas as pd\n",
    "import time\n",
    "import datetime\n",
    "import smtplib\n",
    "from email.mime.multipart import MIMEMultipart\n",
    "from email.mime.text import MIMEText\n",
    "from email.header import Header\n",
    "from email.mime.application import MIMEApplication\n",
    "\n",
    "def send_mail():\n",
    "    # 发送邮箱用户名和密码\n",
    "    user = '1562268871@qq.com'\n",
    "    password = 'qblvapxukeyuhcij'\n",
    "    \n",
    "    # 发送邮箱服务器地址SMTPserver\n",
    "    smtp_server = 'smtp.qq.com'\n",
    "    \n",
    "    # 收件箱地址，可以发多人\n",
    "    receive = ['chuaneran20181212@163.com']\n",
    "    \n",
    "    header_list = []\n",
    "    \n",
    "    # 发送邮件主题和内容\n",
    "    subject = '电商平台'+'('+ time.strftime(\"%Y-%m-%d\",time.localtime())\n",
    "    smtp = smtplib.SMTP_SSL(smtp_server,465)\n",
    "    \n",
    "    with open('./日报格式.html','rb') as f:\n",
    "        content = f.read()\n",
    "        \n",
    "        #设置html格式参数\n",
    "        html_part = MIMEText(content,'html','utf-8')\n",
    "        \n",
    "    msg = MIMEMutipart()\n",
    "    msg.attach(html_part)\n",
    "    msg['Subject'] = Header(subject,'utf-8')\n",
    "    msg['From'] = user\n",
    "    msg['To'] = receive\n",
    "    \n",
    "    # 设置正文图片(需要设置 图片与 html 的对应上)\n",
    "    part_picture = MIMEApplication(open('./output/a.png','rb').read())\n",
    "    part_picture.add_header('Content-ID','image01') #设置图片ID，插入正文\n",
    "    message.attach(part_picture)\n",
    "    \n",
    "    send_file1 = open(r'./output/各省份疾病情况.xlsx','rb').read()\n",
    "    att1 = MIMEText(send_file1,'base64','utf-8')\n",
    "    att1['Content-Type'] = 'application/octet-stream'\n",
    "    att1['Content-Disposition'] = 'attachment;filename=\"各省份疾病情况.xlsx\"'\n",
    "    msg.attach(att1)\n",
    "    \n",
    "    try:\n",
    "        smtp.login(user,password)\n",
    "        smtp.sendmail(user,receive.split(','),msg.as_string())\n",
    "        \n",
    "        smtp.quit()\n",
    "        message1 = '邮件发送成功'+time.strftime(\"%Y-%m-%d\",time.localtime())\n",
    "        print(message1)\n",
    "        \n",
    "    except smtplib.SMTPException as e:\n",
    "        print('Error:无法发送邮件')\n",
    "        print(e)\n",
    "\n",
    "send_mail()\n",
    "    \n",
    "  "
   ]
  },
  {
   "cell_type": "code",
   "execution_count": null,
   "metadata": {},
   "outputs": [],
   "source": []
  }
 ],
 "metadata": {
  "kernelspec": {
   "display_name": "Python 3",
   "language": "python",
   "name": "python3"
  },
  "language_info": {
   "codemirror_mode": {
    "name": "ipython",
    "version": 3
   },
   "file_extension": ".py",
   "mimetype": "text/x-python",
   "name": "python",
   "nbconvert_exporter": "python",
   "pygments_lexer": "ipython3",
   "version": "3.7.6"
  }
 },
 "nbformat": 4,
 "nbformat_minor": 4
}
