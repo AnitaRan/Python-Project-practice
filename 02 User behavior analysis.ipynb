{
 "cells": [
  {
   "cell_type": "markdown",
   "metadata": {},
   "source": [
    "# 用户行为分析"
   ]
  },
  {
   "cell_type": "code",
   "execution_count": 2,
   "metadata": {},
   "outputs": [],
   "source": [
    "import pandas as pd\n",
    "import numpy as np\n",
    "import pandasql as ps\n",
    "import warnings\n",
    "warnings.filterwarnings('ignore')\n",
    "from datetime import datetime,timedelta"
   ]
  },
  {
   "cell_type": "markdown",
   "metadata": {},
   "source": [
    "## 1.数据处理"
   ]
  },
  {
   "cell_type": "markdown",
   "metadata": {},
   "source": [
    "### 数据流引入"
   ]
  },
  {
   "cell_type": "code",
   "execution_count": 9,
   "metadata": {
    "scrolled": true
   },
   "outputs": [
    {
     "data": {
      "text/html": [
       "<div>\n",
       "<style scoped>\n",
       "    .dataframe tbody tr th:only-of-type {\n",
       "        vertical-align: middle;\n",
       "    }\n",
       "\n",
       "    .dataframe tbody tr th {\n",
       "        vertical-align: top;\n",
       "    }\n",
       "\n",
       "    .dataframe thead th {\n",
       "        text-align: right;\n",
       "    }\n",
       "</style>\n",
       "<table border=\"1\" class=\"dataframe\">\n",
       "  <thead>\n",
       "    <tr style=\"text-align: right;\">\n",
       "      <th></th>\n",
       "      <th>user_id</th>\n",
       "      <th>page</th>\n",
       "      <th>behavior_type</th>\n",
       "      <th>sp_id</th>\n",
       "      <th>time</th>\n",
       "      <th>session</th>\n",
       "    </tr>\n",
       "  </thead>\n",
       "  <tbody>\n",
       "    <tr>\n",
       "      <th>0</th>\n",
       "      <td>10111119</td>\n",
       "      <td>5</td>\n",
       "      <td>提交订单</td>\n",
       "      <td>'SP_183'/'SP_708'</td>\n",
       "      <td>2020-01-01 21:47:38</td>\n",
       "      <td>3f7d6f552b7d469d9a0201f6a1ca41bc</td>\n",
       "    </tr>\n",
       "    <tr>\n",
       "      <th>1</th>\n",
       "      <td>10111119</td>\n",
       "      <td>6</td>\n",
       "      <td>支付</td>\n",
       "      <td>'SP_183'/'SP_708'</td>\n",
       "      <td>2020-01-01 21:50:48</td>\n",
       "      <td>3f7d6f552b7d469d9a0201f6a1ca41bc</td>\n",
       "    </tr>\n",
       "    <tr>\n",
       "      <th>2</th>\n",
       "      <td>10028611</td>\n",
       "      <td>1</td>\n",
       "      <td>浏览</td>\n",
       "      <td>NaN</td>\n",
       "      <td>2020-01-01 17:21:08</td>\n",
       "      <td>4a811658a20f4f9eba10f4e927880592</td>\n",
       "    </tr>\n",
       "    <tr>\n",
       "      <th>3</th>\n",
       "      <td>10028611</td>\n",
       "      <td>5</td>\n",
       "      <td>提交订单</td>\n",
       "      <td>'SP_530'/'SP_461'</td>\n",
       "      <td>2020-01-01 17:21:09</td>\n",
       "      <td>4a811658a20f4f9eba10f4e927880592</td>\n",
       "    </tr>\n",
       "    <tr>\n",
       "      <th>4</th>\n",
       "      <td>10028611</td>\n",
       "      <td>6</td>\n",
       "      <td>支付</td>\n",
       "      <td>'SP_530'/'SP_461'</td>\n",
       "      <td>2020-01-01 17:23:12</td>\n",
       "      <td>4a811658a20f4f9eba10f4e927880592</td>\n",
       "    </tr>\n",
       "  </tbody>\n",
       "</table>\n",
       "</div>"
      ],
      "text/plain": [
       "    user_id  page behavior_type              sp_id                time  \\\n",
       "0  10111119     5          提交订单  'SP_183'/'SP_708' 2020-01-01 21:47:38   \n",
       "1  10111119     6            支付  'SP_183'/'SP_708' 2020-01-01 21:50:48   \n",
       "2  10028611     1            浏览                NaN 2020-01-01 17:21:08   \n",
       "3  10028611     5          提交订单  'SP_530'/'SP_461' 2020-01-01 17:21:09   \n",
       "4  10028611     6            支付  'SP_530'/'SP_461' 2020-01-01 17:23:12   \n",
       "\n",
       "                            session  \n",
       "0  3f7d6f552b7d469d9a0201f6a1ca41bc  \n",
       "1  3f7d6f552b7d469d9a0201f6a1ca41bc  \n",
       "2  4a811658a20f4f9eba10f4e927880592  \n",
       "3  4a811658a20f4f9eba10f4e927880592  \n",
       "4  4a811658a20f4f9eba10f4e927880592  "
      ]
     },
     "execution_count": 9,
     "metadata": {},
     "output_type": "execute_result"
    }
   ],
   "source": [
    "data = pd.read_csv('./user_action_2020-01-1to7.csv')\n",
    "\n",
    "# 增加列名\n",
    "data.columns=['user_id','page','behavior_type','sp_id','time','session']\n",
    "# 转化时间格式\n",
    "data['time'] = pd.to_datetime(data['time'])\n",
    "# 去掉8号的数据\n",
    "data = data[data['time']<'2020-01-08']\n",
    "\n",
    "data.head()"
   ]
  },
  {
   "cell_type": "markdown",
   "metadata": {},
   "source": [
    "### 数据概览"
   ]
  },
  {
   "cell_type": "code",
   "execution_count": 12,
   "metadata": {},
   "outputs": [
    {
     "name": "stdout",
     "output_type": "stream",
     "text": [
      "<class 'pandas.core.frame.DataFrame'>\n",
      "Int64Index: 2936439 entries, 0 to 2943791\n",
      "Data columns (total 6 columns):\n",
      " #   Column         Dtype         \n",
      "---  ------         -----         \n",
      " 0   user_id        int64         \n",
      " 1   page           int64         \n",
      " 2   behavior_type  object        \n",
      " 3   sp_id          object        \n",
      " 4   time           datetime64[ns]\n",
      " 5   session        object        \n",
      "dtypes: datetime64[ns](1), int64(2), object(3)\n",
      "memory usage: 156.8+ MB\n"
     ]
    }
   ],
   "source": [
    "data.info()"
   ]
  },
  {
   "cell_type": "markdown",
   "metadata": {},
   "source": [
    "### 数据去重"
   ]
  },
  {
   "cell_type": "code",
   "execution_count": 10,
   "metadata": {},
   "outputs": [
    {
     "name": "stdout",
     "output_type": "stream",
     "text": [
      "<class 'pandas.core.frame.DataFrame'>\n",
      "Int64Index: 2936439 entries, 0 to 2943791\n",
      "Data columns (total 6 columns):\n",
      " #   Column         Dtype         \n",
      "---  ------         -----         \n",
      " 0   user_id        int64         \n",
      " 1   page           int64         \n",
      " 2   behavior_type  object        \n",
      " 3   sp_id          object        \n",
      " 4   time           datetime64[ns]\n",
      " 5   session        object        \n",
      "dtypes: datetime64[ns](1), int64(2), object(3)\n",
      "memory usage: 156.8+ MB\n"
     ]
    }
   ],
   "source": [
    "data.drop_duplicates(inplace=True)\n",
    "data.info()"
   ]
  },
  {
   "cell_type": "code",
   "execution_count": 13,
   "metadata": {},
   "outputs": [
    {
     "data": {
      "text/html": [
       "<div>\n",
       "<style scoped>\n",
       "    .dataframe tbody tr th:only-of-type {\n",
       "        vertical-align: middle;\n",
       "    }\n",
       "\n",
       "    .dataframe tbody tr th {\n",
       "        vertical-align: top;\n",
       "    }\n",
       "\n",
       "    .dataframe thead th {\n",
       "        text-align: right;\n",
       "    }\n",
       "</style>\n",
       "<table border=\"1\" class=\"dataframe\">\n",
       "  <thead>\n",
       "    <tr style=\"text-align: right;\">\n",
       "      <th></th>\n",
       "      <th>user_id</th>\n",
       "      <th>page</th>\n",
       "      <th>behavior_type</th>\n",
       "      <th>sp_id</th>\n",
       "      <th>time</th>\n",
       "      <th>session</th>\n",
       "    </tr>\n",
       "  </thead>\n",
       "  <tbody>\n",
       "    <tr>\n",
       "      <th>2943787</th>\n",
       "      <td>10110021</td>\n",
       "      <td>1</td>\n",
       "      <td>浏览</td>\n",
       "      <td>NaN</td>\n",
       "      <td>2020-01-07 18:25:12</td>\n",
       "      <td>620d87ee13b24d2d9c621b6b54925f8c</td>\n",
       "    </tr>\n",
       "    <tr>\n",
       "      <th>2943788</th>\n",
       "      <td>10110021</td>\n",
       "      <td>2</td>\n",
       "      <td>浏览</td>\n",
       "      <td>NaN</td>\n",
       "      <td>2020-01-07 18:25:14</td>\n",
       "      <td>620d87ee13b24d2d9c621b6b54925f8c</td>\n",
       "    </tr>\n",
       "    <tr>\n",
       "      <th>2943789</th>\n",
       "      <td>10110021</td>\n",
       "      <td>3</td>\n",
       "      <td>浏览</td>\n",
       "      <td>SP_671</td>\n",
       "      <td>2020-01-07 18:28:14</td>\n",
       "      <td>620d87ee13b24d2d9c621b6b54925f8c</td>\n",
       "    </tr>\n",
       "    <tr>\n",
       "      <th>2943790</th>\n",
       "      <td>10105223</td>\n",
       "      <td>1</td>\n",
       "      <td>浏览</td>\n",
       "      <td>NaN</td>\n",
       "      <td>2020-01-07 17:23:44</td>\n",
       "      <td>9246550dae4a43189a3cf81bc1845188</td>\n",
       "    </tr>\n",
       "    <tr>\n",
       "      <th>2943791</th>\n",
       "      <td>10105223</td>\n",
       "      <td>2</td>\n",
       "      <td>浏览</td>\n",
       "      <td>NaN</td>\n",
       "      <td>2020-01-07 17:23:47</td>\n",
       "      <td>9246550dae4a43189a3cf81bc1845188</td>\n",
       "    </tr>\n",
       "  </tbody>\n",
       "</table>\n",
       "</div>"
      ],
      "text/plain": [
       "          user_id  page behavior_type   sp_id                time  \\\n",
       "2943787  10110021     1            浏览     NaN 2020-01-07 18:25:12   \n",
       "2943788  10110021     2            浏览     NaN 2020-01-07 18:25:14   \n",
       "2943789  10110021     3            浏览  SP_671 2020-01-07 18:28:14   \n",
       "2943790  10105223     1            浏览     NaN 2020-01-07 17:23:44   \n",
       "2943791  10105223     2            浏览     NaN 2020-01-07 17:23:47   \n",
       "\n",
       "                                  session  \n",
       "2943787  620d87ee13b24d2d9c621b6b54925f8c  \n",
       "2943788  620d87ee13b24d2d9c621b6b54925f8c  \n",
       "2943789  620d87ee13b24d2d9c621b6b54925f8c  \n",
       "2943790  9246550dae4a43189a3cf81bc1845188  \n",
       "2943791  9246550dae4a43189a3cf81bc1845188  "
      ]
     },
     "execution_count": 13,
     "metadata": {},
     "output_type": "execute_result"
    }
   ],
   "source": [
    "data.tail()"
   ]
  },
  {
   "cell_type": "markdown",
   "metadata": {},
   "source": [
    "## 2.数据加工"
   ]
  },
  {
   "cell_type": "markdown",
   "metadata": {},
   "source": [
    "### 生产page_name字段，根据page的值范围创建映射字典"
   ]
  },
  {
   "cell_type": "code",
   "execution_count": 14,
   "metadata": {},
   "outputs": [
    {
     "data": {
      "text/html": [
       "<div>\n",
       "<style scoped>\n",
       "    .dataframe tbody tr th:only-of-type {\n",
       "        vertical-align: middle;\n",
       "    }\n",
       "\n",
       "    .dataframe tbody tr th {\n",
       "        vertical-align: top;\n",
       "    }\n",
       "\n",
       "    .dataframe thead th {\n",
       "        text-align: right;\n",
       "    }\n",
       "</style>\n",
       "<table border=\"1\" class=\"dataframe\">\n",
       "  <thead>\n",
       "    <tr style=\"text-align: right;\">\n",
       "      <th></th>\n",
       "      <th>user_id</th>\n",
       "      <th>page</th>\n",
       "      <th>behavior_type</th>\n",
       "      <th>sp_id</th>\n",
       "      <th>time</th>\n",
       "      <th>session</th>\n",
       "      <th>page_name</th>\n",
       "    </tr>\n",
       "  </thead>\n",
       "  <tbody>\n",
       "    <tr>\n",
       "      <th>0</th>\n",
       "      <td>10111119</td>\n",
       "      <td>5</td>\n",
       "      <td>提交订单</td>\n",
       "      <td>'SP_183'/'SP_708'</td>\n",
       "      <td>2020-01-01 21:47:38</td>\n",
       "      <td>3f7d6f552b7d469d9a0201f6a1ca41bc</td>\n",
       "      <td>购物页</td>\n",
       "    </tr>\n",
       "    <tr>\n",
       "      <th>1</th>\n",
       "      <td>10111119</td>\n",
       "      <td>6</td>\n",
       "      <td>支付</td>\n",
       "      <td>'SP_183'/'SP_708'</td>\n",
       "      <td>2020-01-01 21:50:48</td>\n",
       "      <td>3f7d6f552b7d469d9a0201f6a1ca41bc</td>\n",
       "      <td>支付页</td>\n",
       "    </tr>\n",
       "    <tr>\n",
       "      <th>2</th>\n",
       "      <td>10028611</td>\n",
       "      <td>1</td>\n",
       "      <td>浏览</td>\n",
       "      <td>NaN</td>\n",
       "      <td>2020-01-01 17:21:08</td>\n",
       "      <td>4a811658a20f4f9eba10f4e927880592</td>\n",
       "      <td>首页</td>\n",
       "    </tr>\n",
       "    <tr>\n",
       "      <th>3</th>\n",
       "      <td>10028611</td>\n",
       "      <td>5</td>\n",
       "      <td>提交订单</td>\n",
       "      <td>'SP_530'/'SP_461'</td>\n",
       "      <td>2020-01-01 17:21:09</td>\n",
       "      <td>4a811658a20f4f9eba10f4e927880592</td>\n",
       "      <td>购物页</td>\n",
       "    </tr>\n",
       "    <tr>\n",
       "      <th>4</th>\n",
       "      <td>10028611</td>\n",
       "      <td>6</td>\n",
       "      <td>支付</td>\n",
       "      <td>'SP_530'/'SP_461'</td>\n",
       "      <td>2020-01-01 17:23:12</td>\n",
       "      <td>4a811658a20f4f9eba10f4e927880592</td>\n",
       "      <td>支付页</td>\n",
       "    </tr>\n",
       "  </tbody>\n",
       "</table>\n",
       "</div>"
      ],
      "text/plain": [
       "    user_id  page behavior_type              sp_id                time  \\\n",
       "0  10111119     5          提交订单  'SP_183'/'SP_708' 2020-01-01 21:47:38   \n",
       "1  10111119     6            支付  'SP_183'/'SP_708' 2020-01-01 21:50:48   \n",
       "2  10028611     1            浏览                NaN 2020-01-01 17:21:08   \n",
       "3  10028611     5          提交订单  'SP_530'/'SP_461' 2020-01-01 17:21:09   \n",
       "4  10028611     6            支付  'SP_530'/'SP_461' 2020-01-01 17:23:12   \n",
       "\n",
       "                            session page_name  \n",
       "0  3f7d6f552b7d469d9a0201f6a1ca41bc       购物页  \n",
       "1  3f7d6f552b7d469d9a0201f6a1ca41bc       支付页  \n",
       "2  4a811658a20f4f9eba10f4e927880592        首页  \n",
       "3  4a811658a20f4f9eba10f4e927880592       购物页  \n",
       "4  4a811658a20f4f9eba10f4e927880592       支付页  "
      ]
     },
     "execution_count": 14,
     "metadata": {},
     "output_type": "execute_result"
    }
   ],
   "source": [
    "map_dict={\n",
    "    1:'首页',\n",
    "    2:'列表页',\n",
    "    3:'详情页',\n",
    "    4:'收藏页',\n",
    "    5:'购物页',\n",
    "    6:'支付页' \n",
    "}\n",
    "data['page_name'] = data['page'].map(map_dict)\n",
    "data.head()"
   ]
  },
  {
   "cell_type": "markdown",
   "metadata": {},
   "source": [
    "### 将父类订单拆成子订单（将一行拆成多行）"
   ]
  },
  {
   "cell_type": "code",
   "execution_count": 41,
   "metadata": {},
   "outputs": [
    {
     "data": {
      "text/html": [
       "<div>\n",
       "<style scoped>\n",
       "    .dataframe tbody tr th:only-of-type {\n",
       "        vertical-align: middle;\n",
       "    }\n",
       "\n",
       "    .dataframe tbody tr th {\n",
       "        vertical-align: top;\n",
       "    }\n",
       "\n",
       "    .dataframe thead th {\n",
       "        text-align: right;\n",
       "    }\n",
       "</style>\n",
       "<table border=\"1\" class=\"dataframe\">\n",
       "  <thead>\n",
       "    <tr style=\"text-align: right;\">\n",
       "      <th></th>\n",
       "      <th>user_id</th>\n",
       "      <th>page</th>\n",
       "      <th>behavior_type</th>\n",
       "      <th>time</th>\n",
       "      <th>session</th>\n",
       "      <th>page_name</th>\n",
       "      <th>sp_id</th>\n",
       "    </tr>\n",
       "  </thead>\n",
       "  <tbody>\n",
       "    <tr>\n",
       "      <th>0</th>\n",
       "      <td>10111119</td>\n",
       "      <td>5</td>\n",
       "      <td>提交订单</td>\n",
       "      <td>2020-01-01 21:47:38</td>\n",
       "      <td>3f7d6f552b7d469d9a0201f6a1ca41bc</td>\n",
       "      <td>购物页</td>\n",
       "      <td>SP_183</td>\n",
       "    </tr>\n",
       "    <tr>\n",
       "      <th>0</th>\n",
       "      <td>10111119</td>\n",
       "      <td>5</td>\n",
       "      <td>提交订单</td>\n",
       "      <td>2020-01-01 21:47:38</td>\n",
       "      <td>3f7d6f552b7d469d9a0201f6a1ca41bc</td>\n",
       "      <td>购物页</td>\n",
       "      <td>SP_708</td>\n",
       "    </tr>\n",
       "    <tr>\n",
       "      <th>1</th>\n",
       "      <td>10111119</td>\n",
       "      <td>6</td>\n",
       "      <td>支付</td>\n",
       "      <td>2020-01-01 21:50:48</td>\n",
       "      <td>3f7d6f552b7d469d9a0201f6a1ca41bc</td>\n",
       "      <td>支付页</td>\n",
       "      <td>SP_183</td>\n",
       "    </tr>\n",
       "    <tr>\n",
       "      <th>1</th>\n",
       "      <td>10111119</td>\n",
       "      <td>6</td>\n",
       "      <td>支付</td>\n",
       "      <td>2020-01-01 21:50:48</td>\n",
       "      <td>3f7d6f552b7d469d9a0201f6a1ca41bc</td>\n",
       "      <td>支付页</td>\n",
       "      <td>SP_708</td>\n",
       "    </tr>\n",
       "    <tr>\n",
       "      <th>2</th>\n",
       "      <td>10028611</td>\n",
       "      <td>1</td>\n",
       "      <td>浏览</td>\n",
       "      <td>2020-01-01 17:21:08</td>\n",
       "      <td>4a811658a20f4f9eba10f4e927880592</td>\n",
       "      <td>首页</td>\n",
       "      <td>NaN</td>\n",
       "    </tr>\n",
       "  </tbody>\n",
       "</table>\n",
       "</div>"
      ],
      "text/plain": [
       "    user_id  page behavior_type                time  \\\n",
       "0  10111119     5          提交订单 2020-01-01 21:47:38   \n",
       "0  10111119     5          提交订单 2020-01-01 21:47:38   \n",
       "1  10111119     6            支付 2020-01-01 21:50:48   \n",
       "1  10111119     6            支付 2020-01-01 21:50:48   \n",
       "2  10028611     1            浏览 2020-01-01 17:21:08   \n",
       "\n",
       "                            session page_name   sp_id  \n",
       "0  3f7d6f552b7d469d9a0201f6a1ca41bc       购物页  SP_183  \n",
       "0  3f7d6f552b7d469d9a0201f6a1ca41bc       购物页  SP_708  \n",
       "1  3f7d6f552b7d469d9a0201f6a1ca41bc       支付页  SP_183  \n",
       "1  3f7d6f552b7d469d9a0201f6a1ca41bc       支付页  SP_708  \n",
       "2  4a811658a20f4f9eba10f4e927880592        首页     NaN  "
      ]
     },
     "execution_count": 41,
     "metadata": {},
     "output_type": "execute_result"
    }
   ],
   "source": [
    "data_new = data.copy()\n",
    "\n",
    "data_new=data_new.drop('sp_id',axis=1).join(data_new['sp_id'].str.split('/',expand=True).stack().reset_index(level=1,drop=True).rename('sp_id'))\n",
    "\n",
    "data_new['sp_id'] =[i.replace(\"'\",'') if \"'\" in str(i) else i for i in data_new['sp_id']]\n",
    "\n",
    "data_new.head()\n"
   ]
  },
  {
   "cell_type": "code",
   "execution_count": 42,
   "metadata": {},
   "outputs": [
    {
     "name": "stdout",
     "output_type": "stream",
     "text": [
      "<class 'pandas.core.frame.DataFrame'>\n",
      "Int64Index: 7161708 entries, 0 to 2943791\n",
      "Data columns (total 7 columns):\n",
      " #   Column         Dtype         \n",
      "---  ------         -----         \n",
      " 0   user_id        int64         \n",
      " 1   page           int64         \n",
      " 2   behavior_type  object        \n",
      " 3   time           datetime64[ns]\n",
      " 4   session        object        \n",
      " 5   page_name      object        \n",
      " 6   sp_id          object        \n",
      "dtypes: datetime64[ns](1), int64(2), object(4)\n",
      "memory usage: 437.1+ MB\n"
     ]
    }
   ],
   "source": [
    "data_new.info()"
   ]
  },
  {
   "cell_type": "code",
   "execution_count": 44,
   "metadata": {},
   "outputs": [],
   "source": [
    "data_new.to_csv(r'E:\\数据分析\\02_开课吧-数据分析实战\\数据源-student\\student\\user_action-加工.csv',index=False)"
   ]
  },
  {
   "cell_type": "markdown",
   "metadata": {},
   "source": [
    "## 3.用户行为路径分析"
   ]
  },
  {
   "cell_type": "markdown",
   "metadata": {},
   "source": [
    "### 浏览-提交订单-支付路径转化"
   ]
  },
  {
   "cell_type": "code",
   "execution_count": 53,
   "metadata": {},
   "outputs": [
    {
     "data": {
      "text/html": [
       "<div>\n",
       "<style scoped>\n",
       "    .dataframe tbody tr th:only-of-type {\n",
       "        vertical-align: middle;\n",
       "    }\n",
       "\n",
       "    .dataframe tbody tr th {\n",
       "        vertical-align: top;\n",
       "    }\n",
       "\n",
       "    .dataframe thead th {\n",
       "        text-align: right;\n",
       "    }\n",
       "</style>\n",
       "<table border=\"1\" class=\"dataframe\">\n",
       "  <thead>\n",
       "    <tr style=\"text-align: right;\">\n",
       "      <th></th>\n",
       "      <th>浏览</th>\n",
       "      <th>提交订单</th>\n",
       "      <th>支付</th>\n",
       "    </tr>\n",
       "  </thead>\n",
       "  <tbody>\n",
       "    <tr>\n",
       "      <th>0</th>\n",
       "      <td>99235</td>\n",
       "      <td>5975</td>\n",
       "      <td>5969</td>\n",
       "    </tr>\n",
       "  </tbody>\n",
       "</table>\n",
       "</div>"
      ],
      "text/plain": [
       "      浏览  提交订单    支付\n",
       "0  99235  5975  5969"
      ]
     },
     "execution_count": 53,
     "metadata": {},
     "output_type": "execute_result"
    }
   ],
   "source": [
    "'''\n",
    "有多少人浏览行为后，直接提交订单，最终支付成功\n",
    "首先拿出三种行为数据，用user_id合并，再去重， 计算每一步的个数\n",
    "'''\n",
    "# 浏览\n",
    "scan = data[data['behavior_type']=='浏览'].drop_duplicates(subset='user_id')\n",
    "\n",
    "# 提交订单\n",
    "order = pd.merge(data[data['behavior_type']=='浏览'],\n",
    "                 data[data['behavior_type']=='提交订单'],\n",
    "                 on='user_id',how='inner').drop_duplicates(subset='user_id')\n",
    "\n",
    "# 支付\n",
    "pay = pd.merge(order,data[data['behavior_type']=='支付'],\n",
    "               on='user_id',how='inner').drop_duplicates(subset='user_id')\n",
    "\n",
    "result1 = pd.DataFrame({\n",
    "    '浏览':[scan.shape[0]],\n",
    "    '提交订单':[order.shape[0]],\n",
    "    '支付':[pay.shape[0]]\n",
    "})\n",
    "\n",
    "result1"
   ]
  },
  {
   "cell_type": "markdown",
   "metadata": {},
   "source": [
    "### 浏览-收藏-提交订单-支付路径转化"
   ]
  },
  {
   "cell_type": "code",
   "execution_count": 54,
   "metadata": {},
   "outputs": [
    {
     "data": {
      "text/html": [
       "<div>\n",
       "<style scoped>\n",
       "    .dataframe tbody tr th:only-of-type {\n",
       "        vertical-align: middle;\n",
       "    }\n",
       "\n",
       "    .dataframe tbody tr th {\n",
       "        vertical-align: top;\n",
       "    }\n",
       "\n",
       "    .dataframe thead th {\n",
       "        text-align: right;\n",
       "    }\n",
       "</style>\n",
       "<table border=\"1\" class=\"dataframe\">\n",
       "  <thead>\n",
       "    <tr style=\"text-align: right;\">\n",
       "      <th></th>\n",
       "      <th>浏览</th>\n",
       "      <th>收藏</th>\n",
       "      <th>提交订单</th>\n",
       "      <th>支付</th>\n",
       "    </tr>\n",
       "  </thead>\n",
       "  <tbody>\n",
       "    <tr>\n",
       "      <th>0</th>\n",
       "      <td>99235</td>\n",
       "      <td>41812</td>\n",
       "      <td>2859</td>\n",
       "      <td>2857</td>\n",
       "    </tr>\n",
       "  </tbody>\n",
       "</table>\n",
       "</div>"
      ],
      "text/plain": [
       "      浏览     收藏  提交订单    支付\n",
       "0  99235  41812  2859  2857"
      ]
     },
     "execution_count": 54,
     "metadata": {},
     "output_type": "execute_result"
    }
   ],
   "source": [
    "'''\n",
    "有多少人浏览行为后，先收藏，然后提交订单，最终支付成功\n",
    "首先拿出四种行为数据，用user_id合并，再去重， 计算每一步的个数\n",
    "'''\n",
    "# 浏览\n",
    "scan = data[data['behavior_type']=='浏览'].drop_duplicates(subset='user_id')\n",
    "\n",
    "# 收藏\n",
    "collect = pd.merge(data[data['behavior_type']=='浏览'],\n",
    "                 data[data['behavior_type']=='收藏'],\n",
    "                 on='user_id',how='inner').drop_duplicates(subset='user_id')\n",
    "\n",
    "# 提交订单\n",
    "order = pd.merge(collect,data[data['behavior_type']=='提交订单'],\n",
    "               on='user_id',how='inner').drop_duplicates(subset='user_id')\n",
    "\n",
    "# 支付\n",
    "pay = pd.merge(order,data[data['behavior_type']=='支付'],\n",
    "               on='user_id',how='inner').drop_duplicates(subset='user_id')\n",
    "\n",
    "result2 = pd.DataFrame({\n",
    "    '浏览':[scan.shape[0]],\n",
    "    '收藏':[collect.shape[0]],\n",
    "    '提交订单':[order.shape[0]],\n",
    "    '支付':[pay.shape[0]]\n",
    "})\n",
    "\n",
    "result2"
   ]
  },
  {
   "cell_type": "markdown",
   "metadata": {},
   "source": [
    "### 浏览-加购-提交订单-支付路径转化"
   ]
  },
  {
   "cell_type": "code",
   "execution_count": 52,
   "metadata": {},
   "outputs": [
    {
     "data": {
      "text/html": [
       "<div>\n",
       "<style scoped>\n",
       "    .dataframe tbody tr th:only-of-type {\n",
       "        vertical-align: middle;\n",
       "    }\n",
       "\n",
       "    .dataframe tbody tr th {\n",
       "        vertical-align: top;\n",
       "    }\n",
       "\n",
       "    .dataframe thead th {\n",
       "        text-align: right;\n",
       "    }\n",
       "</style>\n",
       "<table border=\"1\" class=\"dataframe\">\n",
       "  <thead>\n",
       "    <tr style=\"text-align: right;\">\n",
       "      <th></th>\n",
       "      <th>浏览</th>\n",
       "      <th>加购</th>\n",
       "      <th>提交订单</th>\n",
       "      <th>支付</th>\n",
       "    </tr>\n",
       "  </thead>\n",
       "  <tbody>\n",
       "    <tr>\n",
       "      <th>0</th>\n",
       "      <td>99235</td>\n",
       "      <td>77079</td>\n",
       "      <td>5066</td>\n",
       "      <td>5060</td>\n",
       "    </tr>\n",
       "  </tbody>\n",
       "</table>\n",
       "</div>"
      ],
      "text/plain": [
       "      浏览     加购  提交订单    支付\n",
       "0  99235  77079  5066  5060"
      ]
     },
     "execution_count": 52,
     "metadata": {},
     "output_type": "execute_result"
    }
   ],
   "source": [
    "'''\n",
    "有多少人浏览行为后，先加购，然后提交订单，最终支付成功\n",
    "首先拿出四种行为数据，用user_id合并，再去重， 计算每一步的个数\n",
    "'''\n",
    "#浏览\n",
    "scan = data[data['behavior_type']=='浏览'].drop_duplicates(subset='user_id')\n",
    "\n",
    "# 加购\n",
    "add = pd.merge(data[data['behavior_type']=='浏览'],\n",
    "                 data[data['behavior_type']=='加购'],\n",
    "                 on='user_id',how='inner').drop_duplicates(subset='user_id')\n",
    "\n",
    "# 提交订单\n",
    "order = pd.merge(add,data[data['behavior_type']=='提交订单'],\n",
    "               on='user_id',how='inner').drop_duplicates(subset='user_id')\n",
    "\n",
    "# 支付\n",
    "pay = pd.merge(order,data[data['behavior_type']=='支付'],\n",
    "               on='user_id',how='inner').drop_duplicates(subset='user_id')\n",
    "\n",
    "result3 = pd.DataFrame({\n",
    "    '浏览':[scan.shape[0]],\n",
    "    '加购':[add.shape[0]],\n",
    "    '提交订单':[order.shape[0]],\n",
    "    '支付':[pay.shape[0]]\n",
    "})\n",
    "\n",
    "result3"
   ]
  },
  {
   "cell_type": "code",
   "execution_count": null,
   "metadata": {},
   "outputs": [],
   "source": []
  }
 ],
 "metadata": {
  "kernelspec": {
   "display_name": "Python 3",
   "language": "python",
   "name": "python3"
  },
  "language_info": {
   "codemirror_mode": {
    "name": "ipython",
    "version": 3
   },
   "file_extension": ".py",
   "mimetype": "text/x-python",
   "name": "python",
   "nbconvert_exporter": "python",
   "pygments_lexer": "ipython3",
   "version": "3.7.6"
  }
 },
 "nbformat": 4,
 "nbformat_minor": 4
}
